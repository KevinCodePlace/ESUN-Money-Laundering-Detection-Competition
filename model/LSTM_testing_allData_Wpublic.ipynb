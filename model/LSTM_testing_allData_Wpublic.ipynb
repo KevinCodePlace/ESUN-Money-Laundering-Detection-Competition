{
 "cells": [
  {
   "cell_type": "code",
   "execution_count": 1,
   "id": "c3ceb67a",
   "metadata": {},
   "outputs": [],
   "source": [
    "import numpy as np\n",
    "import pandas as pd\n",
    "import random\n",
    "from sklearn.preprocessing import LabelEncoder"
   ]
  },
  {
   "cell_type": "code",
   "execution_count": 2,
   "id": "91afe99a",
   "metadata": {},
   "outputs": [
    {
     "name": "stdout",
     "output_type": "stream",
     "text": [
      "(23906, 7)\n"
     ]
    }
   ],
   "source": [
    "#loading train_data and divide them into different array: alertkey, custinfo, dp_5_arr\n",
    "train_data = np.load(\"train_set_5.npy\",allow_pickle = True)\n",
    "print(train_data.shape)\n",
    "alert_key_arr = train_data[:,0]\n",
    "\n",
    "custinfo_arr = train_data[:,1]\n",
    "custinfo_arr = np.array([np.array(i) for i in custinfo_arr]) #convert all into array\n",
    "\n",
    "dp_5_arr = train_data[:,2]\n",
    "dp_5_arr = np.array([np.array(i) for i in dp_5_arr]) #convert all into array\n",
    "\n",
    "ccba_5_arr = train_data[:,3]\n",
    "ccba_5_arr = np.array([np.array(i) for i in ccba_5_arr]) #convert all into array\n",
    "\n",
    "cdtx_5_arr = train_data[:,4]\n",
    "cdtx_5_arr = np.array([np.array(i) for i in cdtx_5_arr]) #convert all into array\n",
    "\n",
    "sarflag_arr = pd.read_csv(\"train_y_answer.csv\").values\n",
    "#capture the alertkey which is money laundry record\n",
    "sarflag1_alertkey = np.array([row[0] for row in sarflag_arr if row[1]==1])\n",
    "\n",
    "laundry_label = np.array([0,1])\n",
    "normal_label = np.array([1,0])\n",
    "\n",
    "sarflag_arr_double = np.array([laundry_label if row[1] == 1 else normal_label for row in sarflag_arr])\n"
   ]
  },
  {
   "cell_type": "code",
   "execution_count": 3,
   "id": "72b3b988",
   "metadata": {},
   "outputs": [],
   "source": [
    "#shuffle the data and do train test split\n",
    "\n",
    "#generate random_indexes(23906)\n",
    "random.seed(10)\n",
    "shuffle_index = [i for i in range(len(alert_key_arr))]\n",
    "random.shuffle(shuffle_index)\n",
    "\n",
    "#shuffle all the data\n",
    "train_alert_key = alert_key_arr[shuffle_index]\n",
    "train_custinfo = custinfo_arr[shuffle_index]\n",
    "train_dp_5 = dp_5_arr[shuffle_index]\n",
    "train_ccba_5 = ccba_5_arr[shuffle_index]\n",
    "train_cdtx_5 = cdtx_5_arr[shuffle_index]\n",
    "train_sarflag = sarflag_arr_double[shuffle_index]"
   ]
  },
  {
   "cell_type": "code",
   "execution_count": 4,
   "id": "2e3d8ed4",
   "metadata": {},
   "outputs": [
    {
     "name": "stdout",
     "output_type": "stream",
     "text": [
      "[[1 0]\n",
      " [1 0]\n",
      " [1 0]\n",
      " ...\n",
      " [1 0]\n",
      " [1 0]\n",
      " [1 0]]\n"
     ]
    }
   ],
   "source": [
    "#load testing dataset\n",
    "test_data = np.load(\"public_set_5.npy\",allow_pickle = True)\n",
    "\n",
    "test_alert_key = test_data[:,0]\n",
    "\n",
    "custinfo_arr = test_data[:,1]\n",
    "test_custinfo = np.array([np.array(i) for i in custinfo_arr]) #convert all into array\n",
    "\n",
    "dp_5_arr = test_data[:,2]\n",
    "test_dp_5 = np.array([np.array(i) for i in dp_5_arr]) #convert all into array\n",
    "\n",
    "ccba_5_arr = test_data[:,3]\n",
    "test_ccba_5 = np.array([np.array(i) for i in ccba_5_arr]) #convert all into array\n",
    "\n",
    "cdtx_5_arr = test_data[:,4]\n",
    "test_cdtx_5 = np.array([np.array(i) for i in cdtx_5_arr]) #convert all into array\n",
    "\n",
    "sarflag_arr = pd.read_csv(\"test_y_answer.csv\").values\n",
    "#capture the alertkey which is money laundry record\n",
    "sarflag1_alertkey = np.array([row[0] for row in sarflag_arr if row[1]==1])\n",
    "\n",
    "laundry_label = np.array([0,1])\n",
    "normal_label = np.array([1,0])\n",
    "\n",
    "test_sarflag = np.array([laundry_label if row[1] == 1 else normal_label for row in sarflag_arr])\n",
    "print(test_sarflag)"
   ]
  },
  {
   "cell_type": "code",
   "execution_count": 5,
   "id": "548d316f",
   "metadata": {},
   "outputs": [
    {
     "name": "stdout",
     "output_type": "stream",
     "text": [
      "test money laundry alert key: [354939, 355091, 355152, 355724, 359668, 356602, 363320, 358453, 363896, 361617, 363033]\n",
      "len of test laundry records: 11\n"
     ]
    }
   ],
   "source": [
    "#find test_alertkey which is money laundry record\n",
    "test_laundry_alertkey = [key for key in test_alert_key if key in sarflag1_alertkey]\n",
    "print(\"test money laundry alert key:\",test_laundry_alertkey)\n",
    "print(\"len of test laundry records:\",len(test_laundry_alertkey))"
   ]
  },
  {
   "cell_type": "code",
   "execution_count": 6,
   "id": "3a8e2585",
   "metadata": {},
   "outputs": [
    {
     "name": "stdout",
     "output_type": "stream",
     "text": [
      "{0: 0.5049425481581615, 1: 34.054131054131055}\n"
     ]
    }
   ],
   "source": [
    "#calculate class weight:\n",
    "neg = 0\n",
    "pos = 0\n",
    "total = len(train_sarflag)\n",
    "\n",
    "for label in train_sarflag:\n",
    "    if label[0] == 1:\n",
    "        neg += 1\n",
    "    else:\n",
    "        pos += 1\n",
    "\n",
    "weight_for_0 = (1 / neg) * (total / 2.0)\n",
    "weight_for_1 = (1 / pos) * (total / 2.0)/(3/2)\n",
    "\n",
    "class_weight = {0: weight_for_0, 1: weight_for_1}\n",
    "\n",
    "print(class_weight)"
   ]
  },
  {
   "cell_type": "code",
   "execution_count": 7,
   "id": "6517d71d",
   "metadata": {},
   "outputs": [],
   "source": [
    "import numpy as np\n",
    "import pandas as pd\n",
    "import matplotlib.pyplot as plt\n",
    "import pandas as pd\n",
    "import math\n",
    "import tensorflow as tf\n",
    "from tensorflow.keras.models import Sequential, Model\n",
    "from tensorflow.keras.layers import Dense\n",
    "from tensorflow.keras.layers import LSTM\n",
    "from tensorflow.keras.layers import Embedding\n",
    "from tensorflow.keras.layers import Dropout\n",
    "from tensorflow.keras import Input\n",
    "#https://keras.io/api/layers/core_layers/input/\n",
    "from tensorflow.keras.layers import concatenate"
   ]
  },
  {
   "cell_type": "code",
   "execution_count": 8,
   "id": "f0b97a18",
   "metadata": {},
   "outputs": [],
   "source": [
    "METRICS = [\n",
    "      tf.keras.metrics.Recall(name='recall'),\n",
    "]\n"
   ]
  },
  {
   "cell_type": "code",
   "execution_count": 9,
   "id": "9cb461a0",
   "metadata": {},
   "outputs": [],
   "source": [
    "def model_phase():\n",
    "    \n",
    "    #define input_shape\n",
    "    custinfo_input = Input(shape=(train_custinfo.shape[1]))\n",
    "    dp_input = Input(shape=train_dp_5.shape[1:])\n",
    "    ccba_input = Input(shape=train_ccba_5.shape[1:])\n",
    "    cdtx_input = Input(shape=train_cdtx_5.shape[1:])\n",
    "    \n",
    "    \n",
    "    \n",
    "    dp_embedding = LSTM(train_dp_5.shape[2],activation=\"relu\")(dp_input)\n",
    "    dp_embedding = Dropout(0.2)(dp_embedding)\n",
    "    \n",
    "    ccba_embedding = LSTM(train_ccba_5.shape[2],activation=\"relu\")(ccba_input)\n",
    "    ccba_embedding = Dropout(0.2)(ccba_embedding)\n",
    "    \n",
    "    cdtx_embedding = LSTM(train_cdtx_5.shape[2],activation=\"relu\")(cdtx_input)\n",
    "    cdtx_embedding = Dropout(0.2)(cdtx_embedding)\n",
    "    \n",
    "    \n",
    "    \n",
    "    concat_embedding = concatenate([custinfo_input,dp_embedding,ccba_embedding,cdtx_embedding])\n",
    "    \n",
    "    out128 = Dense(128, activation=\"relu\")(concat_embedding)\n",
    "    \n",
    "    out64 = Dense(64, activation=\"relu\")(out128)\n",
    "    \n",
    "    out32 = Dense(32, activation=\"relu\")(out64)\n",
    "    \n",
    "    out16 = Dense(16, activation=\"relu\")(out32)\n",
    "    \n",
    "    out8 = Dense(8, activation=\"relu\")(out16)\n",
    "    \n",
    "    out4 = Dense(4, activation=\"relu\")(out8)\n",
    "    \n",
    "    out2 = Dense(2, activation=\"softmax\")(out4)\n",
    "\n",
    "    model = Model(inputs=[custinfo_input, dp_input,ccba_input,cdtx_input], outputs=out2)\n",
    "    model.compile(loss=tf.keras.losses.BinaryCrossentropy(from_logits=True),\n",
    "            optimizer='adam',\n",
    "            metrics=METRICS)\n",
    "    print(model.summary())\n",
    "    #callback = tf.keras.callbacks.EarlyStopping(monitor='loss', patience=20)\n",
    "    # 進行訓練\n",
    "    history = model.fit([train_custinfo,train_dp_5,train_ccba_5,train_cdtx_5], \n",
    "                        train_sarflag, \n",
    "                        epochs = 5, \n",
    "                        batch_size = 256,\n",
    "                        class_weight=class_weight,\n",
    "                        #callbacks=[callback],\n",
    "                        validation_data=([test_custinfo,test_dp_5,test_ccba_5,test_cdtx_5]\n",
    "                                         ,test_sarflag))  \n",
    "    \n",
    "    \n",
    "    tf.keras.utils.plot_model(model, \"my_first_model_with_shape_info.png\", show_shapes=True)\n",
    "\n",
    "    loss = history.history['loss']\n",
    "    val_loss = history.history['val_loss']\n",
    "    plt.plot(loss,\"-b\")\n",
    "    plt.plot(val_loss,\"-r\")\n",
    "    plt.title(\"loss trend\")\n",
    "    plt.xlabel(\"epoch\")\n",
    "    plt.ylabel(\"loss\")\n",
    "    plt.show()\n",
    "    \n",
    "    recall = history.history[\"recall\"]\n",
    "    val_recall = history.history[\"val_recall\"]\n",
    "    plt.plot(recall,\"-b\")\n",
    "    plt.plot(val_recall,\"-r\")\n",
    "    plt.title(\"recall trend\")\n",
    "    plt.xlabel(\"epoch\")\n",
    "    plt.ylabel(\"recall\")\n",
    "    plt.show()\n",
    "\n",
    "    \n",
    "    \n",
    "    y_pred = model.predict([test_custinfo,test_dp_5,test_ccba_5,test_cdtx_5])\n",
    "    \n",
    "    tf.keras.backend.clear_session()\n",
    "    return y_pred"
   ]
  },
  {
   "cell_type": "code",
   "execution_count": 10,
   "id": "5ad9a9b3",
   "metadata": {
    "scrolled": true
   },
   "outputs": [
    {
     "name": "stdout",
     "output_type": "stream",
     "text": [
      "WARNING:tensorflow:Layer lstm will not use cuDNN kernel since it doesn't meet the cuDNN kernel criteria. It will use generic GPU kernel as fallback when running on GPU\n",
      "WARNING:tensorflow:Layer lstm_1 will not use cuDNN kernel since it doesn't meet the cuDNN kernel criteria. It will use generic GPU kernel as fallback when running on GPU\n",
      "WARNING:tensorflow:Layer lstm_2 will not use cuDNN kernel since it doesn't meet the cuDNN kernel criteria. It will use generic GPU kernel as fallback when running on GPU\n",
      "Model: \"model\"\n",
      "__________________________________________________________________________________________________\n",
      "Layer (type)                    Output Shape         Param #     Connected to                     \n",
      "==================================================================================================\n",
      "input_2 (InputLayer)            [(None, 5, 89)]      0                                            \n",
      "__________________________________________________________________________________________________\n",
      "input_3 (InputLayer)            [(None, 5, 7)]       0                                            \n",
      "__________________________________________________________________________________________________\n",
      "input_4 (InputLayer)            [(None, 5, 184)]     0                                            \n",
      "__________________________________________________________________________________________________\n",
      "lstm (LSTM)                     (None, 89)           63724       input_2[0][0]                    \n",
      "__________________________________________________________________________________________________\n",
      "lstm_1 (LSTM)                   (None, 7)            420         input_3[0][0]                    \n",
      "__________________________________________________________________________________________________\n",
      "lstm_2 (LSTM)                   (None, 184)          271584      input_4[0][0]                    \n",
      "__________________________________________________________________________________________________\n",
      "input_1 (InputLayer)            [(None, 42)]         0                                            \n",
      "__________________________________________________________________________________________________\n",
      "dropout (Dropout)               (None, 89)           0           lstm[0][0]                       \n",
      "__________________________________________________________________________________________________\n",
      "dropout_1 (Dropout)             (None, 7)            0           lstm_1[0][0]                     \n",
      "__________________________________________________________________________________________________\n",
      "dropout_2 (Dropout)             (None, 184)          0           lstm_2[0][0]                     \n",
      "__________________________________________________________________________________________________\n",
      "concatenate (Concatenate)       (None, 322)          0           input_1[0][0]                    \n",
      "                                                                 dropout[0][0]                    \n",
      "                                                                 dropout_1[0][0]                  \n",
      "                                                                 dropout_2[0][0]                  \n",
      "__________________________________________________________________________________________________\n",
      "dense (Dense)                   (None, 128)          41344       concatenate[0][0]                \n",
      "__________________________________________________________________________________________________\n",
      "dense_1 (Dense)                 (None, 64)           8256        dense[0][0]                      \n",
      "__________________________________________________________________________________________________\n",
      "dense_2 (Dense)                 (None, 32)           2080        dense_1[0][0]                    \n",
      "__________________________________________________________________________________________________\n",
      "dense_3 (Dense)                 (None, 16)           528         dense_2[0][0]                    \n",
      "__________________________________________________________________________________________________\n",
      "dense_4 (Dense)                 (None, 8)            136         dense_3[0][0]                    \n",
      "__________________________________________________________________________________________________\n",
      "dense_5 (Dense)                 (None, 4)            36          dense_4[0][0]                    \n",
      "__________________________________________________________________________________________________\n",
      "dense_6 (Dense)                 (None, 2)            10          dense_5[0][0]                    \n",
      "==================================================================================================\n",
      "Total params: 388,118\n",
      "Trainable params: 388,118\n",
      "Non-trainable params: 0\n",
      "__________________________________________________________________________________________________\n",
      "None\n",
      "Epoch 1/5\n",
      "94/94 [==============================] - 8s 56ms/step - loss: 0.5679 - recall: 0.9509 - val_loss: 0.5473 - val_recall: 0.9940\n",
      "Epoch 2/5\n",
      "94/94 [==============================] - 5s 55ms/step - loss: 0.4982 - recall: 0.9910 - val_loss: 0.4812 - val_recall: 0.9940\n",
      "Epoch 3/5\n",
      "94/94 [==============================] - 5s 56ms/step - loss: 0.5171 - recall: 0.9183 - val_loss: 0.4036 - val_recall: 0.7241\n",
      "Epoch 4/5\n",
      "94/94 [==============================] - 5s 55ms/step - loss: 0.4872 - recall: 0.7482 - val_loss: 0.4297 - val_recall: 0.6575\n",
      "Epoch 5/5\n",
      "94/94 [==============================] - 5s 54ms/step - loss: 0.4454 - recall: 0.7380 - val_loss: 0.4663 - val_recall: 0.5485\n"
     ]
    },
    {
     "data": {
      "image/png": "[encoded data removed]",
      "text/plain": [
       "<Figure size 432x288 with 1 Axes>"
      ]
     },
     "metadata": {
      "needs_background": "light"
     },
     "output_type": "display_data"
    },
    {
     "data": {
      "image/png": "[encoded data removed]",
      "text/plain": [
       "<Figure size 432x288 with 1 Axes>"
      ]
     },
     "metadata": {
      "needs_background": "light"
     },
     "output_type": "display_data"
    }
   ],
   "source": [
    "pred = model_phase()"
   ]
  },
  {
   "cell_type": "code",
   "execution_count": 11,
   "id": "1c6cea40",
   "metadata": {
    "scrolled": true
   },
   "outputs": [
    {
     "name": "stdout",
     "output_type": "stream",
     "text": [
      "              precision    recall  f1-score   support\n",
      "\n",
      "           0       1.00      0.55      0.71      1834\n",
      "           1       0.01      0.91      0.02        11\n",
      "\n",
      "    accuracy                           0.55      1845\n",
      "   macro avg       0.51      0.73      0.36      1845\n",
      "weighted avg       0.99      0.55      0.70      1845\n",
      "\n",
      "1845\n",
      "predict index: [4, 6, 8, 11, 12, 13, 17, 18, 19, 21, 22, 24, 25, 27, 29, 30, 31, 32, 43, 46, 47, 51, 54, 55, 56, 58, 61, 62, 63, 64, 65, 68, 71, 74, 77, 79, 80, 81, 82, 85, 87, 88, 90, 94, 95, 96, 97, 98, 104, 106, 108, 110, 112, 113, 114, 116, 120, 121, 127, 130, 133, 135, 137, 138, 139, 140, 141, 144, 145, 146, 149, 150, 151, 152, 153, 157, 159, 162, 163, 165, 167, 169, 171, 176, 177, 178, 181, 183, 187, 188, 189, 200, 207, 209, 212, 213, 214, 218, 220, 224, 226, 227, 230, 231, 232, 237, 238, 239, 245, 246, 247, 253, 254, 257, 262, 264, 267, 269, 270, 271, 273, 274, 275, 277, 281, 283, 284, 285, 287, 288, 289, 293, 294, 296, 297, 300, 303, 310, 311, 312, 313, 315, 319, 325, 326, 327, 328, 329, 331, 333, 334, 335, 337, 339, 340, 342, 344, 345, 346, 347, 354, 361, 363, 364, 365, 367, 368, 375, 376, 377, 379, 381, 384, 385, 388, 389, 396, 397, 398, 400, 405, 408, 412, 413, 414, 415, 419, 422, 424, 425, 430, 431, 432, 434, 437, 438, 443, 447, 448, 454, 456, 460, 461, 462, 463, 466, 467, 468, 469, 470, 471, 474, 476, 477, 484, 486, 488, 489, 496, 497, 498, 499, 500, 502, 503, 505, 506, 512, 513, 514, 518, 522, 524, 525, 526, 530, 532, 533, 534, 535, 536, 537, 538, 539, 540, 541, 542, 544, 546, 548, 550, 552, 555, 558, 559, 560, 562, 564, 566, 569, 570, 571, 572, 574, 576, 579, 580, 582, 583, 586, 587, 588, 590, 591, 592, 593, 594, 595, 598, 599, 602, 604, 605, 606, 607, 609, 613, 619, 624, 626, 629, 632, 635, 636, 637, 638, 640, 642, 643, 645, 653, 655, 656, 659, 661, 662, 664, 668, 669, 671, 674, 675, 679, 684, 688, 690, 691, 692, 693, 694, 698, 699, 703, 704, 706, 707, 708, 709, 710, 718, 719, 720, 723, 724, 727, 730, 731, 733, 734, 735, 737, 738, 742, 743, 744, 745, 750, 755, 759, 761, 762, 763, 766, 769, 770, 771, 774, 775, 780, 781, 782, 786, 787, 789, 790, 793, 797, 799, 800, 801, 804, 805, 806, 807, 808, 811, 814, 816, 819, 821, 823, 824, 828, 831, 832, 837, 838, 841, 843, 854, 856, 859, 860, 861, 862, 863, 867, 868, 870, 877, 878, 879, 882, 885, 887, 888, 891, 893, 894, 895, 896, 898, 899, 900, 902, 908, 909, 910, 911, 913, 916, 919, 923, 924, 925, 929, 930, 931, 932, 933, 934, 935, 937, 939, 941, 942, 943, 946, 947, 948, 949, 950, 951, 952, 956, 958, 960, 962, 963, 964, 965, 967, 968, 969, 971, 973, 975, 976, 978, 980, 981, 983, 985, 986, 987, 988, 989, 990, 992, 993, 994, 995, 996, 997, 998, 1000, 1001, 1002, 1003, 1004, 1009, 1010, 1013, 1017, 1018, 1021, 1023, 1027, 1028, 1030, 1036, 1038, 1039, 1041, 1042, 1043, 1045, 1047, 1050, 1051, 1053, 1054, 1055, 1058, 1060, 1062, 1067, 1068, 1080, 1082, 1084, 1085, 1093, 1095, 1096, 1097, 1098, 1100, 1105, 1106, 1107, 1108, 1110, 1111, 1112, 1113, 1116, 1118, 1120, 1121, 1123, 1125, 1126, 1127, 1128, 1130, 1132, 1133, 1136, 1139, 1142, 1145, 1146, 1148, 1149, 1151, 1154, 1160, 1162, 1167, 1168, 1169, 1170, 1180, 1184, 1186, 1187, 1190, 1192, 1194, 1195, 1198, 1205, 1206, 1214, 1216, 1221, 1222, 1223, 1235, 1236, 1238, 1240, 1241, 1242, 1248, 1251, 1254, 1255, 1256, 1260, 1262, 1263, 1264, 1265, 1269, 1271, 1272, 1276, 1277, 1278, 1279, 1280, 1281, 1282, 1283, 1284, 1285, 1289, 1290, 1291, 1293, 1294, 1299, 1302, 1303, 1306, 1307, 1308, 1309, 1311, 1312, 1317, 1321, 1322, 1323, 1324, 1328, 1330, 1335, 1336, 1340, 1344, 1347, 1348, 1352, 1353, 1355, 1356, 1357, 1360, 1361, 1362, 1365, 1366, 1370, 1371, 1372, 1373, 1377, 1379, 1382, 1384, 1388, 1393, 1397, 1399, 1400, 1402, 1404, 1406, 1407, 1408, 1414, 1416, 1417, 1420, 1422, 1424, 1426, 1428, 1429, 1430, 1433, 1435, 1437, 1442, 1444, 1446, 1449, 1455, 1457, 1462, 1466, 1467, 1468, 1469, 1471, 1472, 1476, 1478, 1481, 1485, 1487, 1490, 1492, 1493, 1494, 1501, 1502, 1505, 1510, 1519, 1520, 1527, 1528, 1529, 1530, 1531, 1532, 1535, 1536, 1538, 1539, 1540, 1544, 1545, 1547, 1548, 1550, 1551, 1552, 1553, 1555, 1556, 1560, 1563, 1578, 1579, 1580, 1582, 1583, 1586, 1588, 1589, 1591, 1592, 1593, 1594, 1595, 1596, 1597, 1601, 1604, 1606, 1607, 1614, 1617, 1619, 1620, 1623, 1624, 1626, 1628, 1634, 1639, 1643, 1644, 1649, 1650, 1651, 1653, 1657, 1658, 1661, 1662, 1663, 1665, 1666, 1667, 1673, 1674, 1675, 1677, 1678, 1679, 1681, 1682, 1685, 1687, 1693, 1702, 1703, 1706, 1707, 1709, 1710, 1711, 1712, 1715, 1718, 1719, 1720, 1727, 1731, 1734, 1739, 1740, 1742, 1745, 1746, 1748, 1752, 1753, 1754, 1758, 1760, 1761, 1762, 1763, 1764, 1765, 1767, 1768, 1770, 1771, 1772, 1777, 1778, 1779, 1780, 1781, 1782, 1786, 1787, 1788, 1790, 1792, 1795, 1799, 1801, 1803, 1807, 1811, 1818, 1821, 1823, 1825, 1826, 1827, 1828, 1829, 1832, 1833, 1834, 1835, 1837, 1839, 1840, 1842, 1843, 1844]\n",
      "true index: [412, 413, 414, 540, 692, 841, 948, 1018, 1129, 1527, 1678]\n"
     ]
    }
   ],
   "source": [
    "from sklearn.metrics import classification_report\n",
    "\n",
    "y_pred = [0 if label[0]> label[1] else 1 for label in pred]\n",
    "y_true = [0 if label[0]> label[1] else 1 for label in test_sarflag]\n",
    "\n",
    "print(classification_report(y_true,y_pred))\n",
    "print(len(pred))\n",
    "\n",
    "y_pred_index = [i for i in range(len(y_pred)) if y_pred[i]==1]\n",
    "y_true_index = [i for i in range(len(y_true)) if y_true[i]==1]\n",
    "print(\"predict index:\",y_pred_index)\n",
    "print(\"true index:\",y_true_index)"
   ]
  },
  {
   "cell_type": "code",
   "execution_count": 12,
   "id": "96b36dbe",
   "metadata": {},
   "outputs": [
    {
     "name": "stdout",
     "output_type": "stream",
     "text": [
      "[752, 916]\n",
      "0.013297872340425532\n"
     ]
    }
   ],
   "source": [
    "def capture_sarflags_cost(real_laundry_key,y_pred,shuffle_alert_key):\n",
    "    \n",
    "    #concat alertkey with predicted probability\n",
    "    alert_key_with_prob = np.hstack((np.array(shuffle_alert_key).reshape(-1,1),\n",
    "                                     y_pred.reshape(-1,1)))\n",
    "    \n",
    "    #sorted by probability\n",
    "    alert_key_with_prob = np.array(sorted(alert_key_with_prob, key=lambda x: x[1],reverse=True))\n",
    "    #capture only index\n",
    "    sorted_alert_key = alert_key_with_prob[:,0].tolist()\n",
    "    \n",
    "    distance = [0,0]\n",
    "    for index in real_laundry_key:\n",
    "        if distance[1] < sorted_alert_key.index(index):\n",
    "            distance[0] = distance[1]\n",
    "            distance[1] = sorted_alert_key.index(index)\n",
    "        else:\n",
    "            distance[0] = max(distance[0],sorted_alert_key.index(index))\n",
    "    \n",
    "    print(distance)\n",
    "    precision = (len(real_laundry_key)-1)/distance[0]\n",
    "    print(precision)\n",
    "    \n",
    "capture_sarflags_cost(test_laundry_alertkey,pred[:,1],test_alert_key)"
   ]
  }
 ],
 "metadata": {
  "kernelspec": {
   "display_name": "Python 3",
   "language": "python",
   "name": "python3"
  },
  "language_info": {
   "codemirror_mode": {
    "name": "ipython",
    "version": 3
   },
   "file_extension": ".py",
   "mimetype": "text/x-python",
   "name": "python",
   "nbconvert_exporter": "python",
   "pygments_lexer": "ipython3",
   "version": "3.6.13"
  }
 },
 "nbformat": 4,
 "nbformat_minor": 5
}
