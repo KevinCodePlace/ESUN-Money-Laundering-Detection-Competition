{
 "cells": [
  {
   "cell_type": "code",
   "execution_count": 1,
   "id": "c3ceb67a",
   "metadata": {},
   "outputs": [],
   "source": [
    "import numpy as np\n",
    "import pandas as pd\n",
    "import random\n",
    "from sklearn.preprocessing import LabelEncoder"
   ]
  },
  {
   "cell_type": "code",
   "execution_count": 2,
   "id": "91afe99a",
   "metadata": {},
   "outputs": [
    {
     "name": "stdout",
     "output_type": "stream",
     "text": [
      "[171770 172480 174298 177960 177788 178503 179086 180223 179789 181241\n",
      " 181742 182686 184304 184729 184581 184569 185217 185430 185806 187066\n",
      " 187006 187020 187620 188114 188572 189060 189123 189313 190233 189855\n",
      " 190511 190987 191275 191313 191582 191687 192504 192348 192624 192503\n",
      " 192182 193323 193308 193607 193591 193609 194026 194029 194020 194991\n",
      " 194998 194854 195572 195471 195765 195904 195737 195880 196191 196533\n",
      " 196584 196768 197032 197088 198160 198064 198709 199050 198910 199069\n",
      " 199944 199918 200734 201003 201021 202733 202757 203009 202622 202146\n",
      " 203457 203149 204193 203737 203903 204639 204818 204816 204979 204801\n",
      " 205149 208722 208521 207299 208103 207826 207846 209446 209375 210143\n",
      " 209709 210759 210769 210477 212667 212825 213211 213346 214426 214818\n",
      " 215398 216108 216086 216430 216405 215933 216724 216871 216609 217451\n",
      " 218078 217767 218503 218840 219362 220095 220868 221014 222221 222545\n",
      " 222762 223319 223455 224975 225536 226137 226557 228779 228734 229419\n",
      " 229728 229766 230638 231419 231455 232141 232571 234249 235373 238099\n",
      " 238055 238500 238108 240965 242265 244115 244947 244598 245981 245535\n",
      " 245735 246605 246756 247120 248256 248515 249129 250350 251284 253493\n",
      " 254931 255967 256370 257134 256968 257351 257373 258258 258486 259393\n",
      " 258867 260712 260901 261171 261169 262036 263008 264712 264338 267316\n",
      " 268765 268562 269661 270775 274600 274321 275937 278058 279163 279637\n",
      " 279695 281433 283568 284188 286955 287057 288619 291994 293864 294452\n",
      " 296805 298380 312295 302358 302634 303147 305491 305549 305540 303923\n",
      " 305801 306494 306458 311651 313558 316664 323358 341482 343888 346021\n",
      " 347051 347894 348724 351367]\n",
      "[[1 0]\n",
      " [1 0]\n",
      " [1 0]\n",
      " ...\n",
      " [1 0]\n",
      " [1 0]\n",
      " [1 0]]\n",
      "[171189 171202 171599 ... 352080 352075 351927]\n"
     ]
    }
   ],
   "source": [
    "#loading train_data and divide them into different array: alertkey, custinfo, dp_5_arr\n",
    "train_data = np.load(\"train_data.npy\",allow_pickle = True)\n",
    "\n",
    "alert_key_arr = train_data[:,0]\n",
    "\n",
    "custinfo_arr = train_data[:,1]\n",
    "custinfo_arr = np.array([np.array(i) for i in custinfo_arr]) #convert all into array\n",
    "\n",
    "dp_5_arr = train_data[:,2]\n",
    "dp_5_arr = np.array([np.array(i) for i in dp_5_arr]) #convert all into array\n",
    "\n",
    "sarflag_arr = pd.read_csv(\"train_y_answer.csv\").values\n",
    "#capture the alertkey which is money laundry record\n",
    "sarflag1_alertkey = np.array([row[0] for row in sarflag_arr if row[1]==1])\n",
    "\n",
    "laundry_label = np.array([0,1])\n",
    "normal_label = np.array([1,0])\n",
    "\n",
    "sarflag_arr_double = np.array([laundry_label if row[1] == 1 else normal_label for row in sarflag_arr])\n",
    "\n",
    "\n",
    "print(sarflag1_alertkey)\n",
    "print(sarflag_arr_double)\n",
    "print(alert_key_arr)"
   ]
  },
  {
   "cell_type": "code",
   "execution_count": 3,
   "id": "72b3b988",
   "metadata": {},
   "outputs": [],
   "source": [
    "#shuffle the data and do train test split\n",
    "\n",
    "#generate random_indexes(23906)\n",
    "random.seed(10)\n",
    "shuffle_index = [i for i in range(len(alert_key_arr))]\n",
    "random.shuffle(shuffle_index)\n",
    "\n",
    "#shuffle all the data\n",
    "shuffle_alert_key = alert_key_arr[shuffle_index]\n",
    "shuffle_custinfo = custinfo_arr[shuffle_index]\n",
    "shuffle_dp_5 = dp_5_arr[shuffle_index]\n",
    "shuffle_sarflag = sarflag_arr_double[shuffle_index]\n",
    "\n",
    "\n",
    "\n",
    "#train_test_split\n",
    "split_ratio = 0.8\n",
    "split_index = int(len(alert_key_arr) * split_ratio)\n",
    "\n",
    "train_alert_key = shuffle_alert_key[:split_index] #其實用不到\n",
    "test_alert_key = shuffle_alert_key[split_index:]\n",
    "\n",
    "train_custinfo = shuffle_custinfo[:split_index]\n",
    "test_custinfo = shuffle_custinfo[split_index:]\n",
    "\n",
    "train_dp_5 = shuffle_dp_5[:split_index,:]\n",
    "test_dp_5 = shuffle_dp_5[split_index:,:]\n",
    "\n",
    "train_sarflag = shuffle_sarflag[:split_index]\n",
    "test_sarflag = shuffle_sarflag[split_index:]"
   ]
  },
  {
   "cell_type": "code",
   "execution_count": 4,
   "id": "635f4b16",
   "metadata": {},
   "outputs": [
    {
     "name": "stdout",
     "output_type": "stream",
     "text": [
      "test money laundry alert key: [257373, 238500, 194998, 347894, 196768, 193591, 242265, 222762, 217767, 208521, 228779, 216430, 192624, 210477, 194991, 302634, 198064, 184729, 199069, 200734, 215398, 306458, 313558, 275937, 185217, 256370, 216871, 194029, 198709, 218840, 279637, 257351, 283568, 204801, 224975, 274321, 214818, 195765, 202146, 220868, 187020, 178503, 298380, 204639, 305491, 190233, 269661, 189123, 316664, 216405, 246756]\n",
      "len of test laundry records: 51\n"
     ]
    }
   ],
   "source": [
    "#find test_alertkey which is money laundry record\n",
    "test_laundry_alertkey = [key for key in test_alert_key if key in sarflag1_alertkey]\n",
    "print(\"test money laundry alert key:\",test_laundry_alertkey)\n",
    "print(\"len of test laundry records:\",len(test_laundry_alertkey))"
   ]
  },
  {
   "cell_type": "code",
   "execution_count": 5,
   "id": "3a8e2585",
   "metadata": {},
   "outputs": [
    {
     "name": "stdout",
     "output_type": "stream",
     "text": [
      "{0: 0.5048307903489784, 1: 34.834244080145716}\n"
     ]
    }
   ],
   "source": [
    "#calculate class weight:\n",
    "neg = 0\n",
    "pos = 0\n",
    "total = len(train_sarflag)\n",
    "\n",
    "for label in train_sarflag:\n",
    "    if label[0] == 1:\n",
    "        neg += 1\n",
    "    else:\n",
    "        pos += 1\n",
    "\n",
    "weight_for_0 = (1 / neg) * (total / 2.0)\n",
    "weight_for_1 = (1 / pos) * (total / 2.0)/(3/2)\n",
    "\n",
    "class_weight = {0: weight_for_0, 1: weight_for_1}\n",
    "\n",
    "print(class_weight)"
   ]
  },
  {
   "cell_type": "code",
   "execution_count": 6,
   "id": "6517d71d",
   "metadata": {},
   "outputs": [],
   "source": [
    "import numpy as np\n",
    "import pandas as pd\n",
    "import matplotlib.pyplot as plt\n",
    "import pandas as pd\n",
    "import math\n",
    "import tensorflow as tf\n",
    "from tensorflow.keras.models import Sequential, Model\n",
    "from tensorflow.keras.layers import Dense\n",
    "from tensorflow.keras.layers import LSTM\n",
    "from tensorflow.keras.layers import Embedding\n",
    "from tensorflow.keras.layers import Dropout\n",
    "from tensorflow.keras import Input\n",
    "#https://keras.io/api/layers/core_layers/input/\n",
    "from tensorflow.keras.layers import concatenate"
   ]
  },
  {
   "cell_type": "code",
   "execution_count": 7,
   "id": "f0b97a18",
   "metadata": {},
   "outputs": [],
   "source": [
    "METRICS = [\n",
    "      tf.keras.metrics.Recall(name='recall'),\n",
    "]\n"
   ]
  },
  {
   "cell_type": "code",
   "execution_count": 8,
   "id": "9cb461a0",
   "metadata": {},
   "outputs": [],
   "source": [
    "def model_phase():\n",
    "    \n",
    "    #define input_shape\n",
    "    custinfo_input = Input(shape=(train_custinfo.shape[1]))\n",
    "    dp_input = Input(shape=train_dp_5.shape[1:])\n",
    "    \n",
    "    dp_embedding = LSTM(train_dp_5.shape[2],activation=\"relu\")(dp_input)\n",
    "    dp_embedding = Dropout(0.5)(dp_embedding)\n",
    "    \n",
    "    concat_embedding = concatenate([custinfo_input,dp_embedding])\n",
    "    \n",
    "    out64 = Dense(64, activation=\"relu\")(concat_embedding)\n",
    "    \n",
    "    #out32 = Dense(32, activation=\"relu\")(out64)\n",
    "    \n",
    "    #out16 = Dense(16, activation=\"relu\")(out64)\n",
    "    \n",
    "    #out8 = Dense(8, activation=\"relu\")(out16)\n",
    "    \n",
    "    #out4 = Dense(4, activation=\"relu\")(out8)\n",
    "    \n",
    "    out2 = Dense(2, activation=\"softmax\")(out64)\n",
    "\n",
    "    model = Model(inputs=[custinfo_input, dp_input], outputs=out2)\n",
    "    model.compile(loss=tf.keras.losses.BinaryCrossentropy(from_logits=True),\n",
    "            optimizer='adam',\n",
    "            metrics=METRICS)\n",
    "    print(model.summary())\n",
    "    #callback = tf.keras.callbacks.EarlyStopping(monitor='loss', patience=20)\n",
    "    # 進行訓練\n",
    "    history = model.fit([train_custinfo,train_dp_5], \n",
    "                        train_sarflag, \n",
    "                        epochs = 2, \n",
    "                        batch_size = 64,\n",
    "                        class_weight=class_weight,\n",
    "                        #callbacks=[callback],\n",
    "                        validation_data=([test_custinfo,test_dp_5], test_sarflag))  \n",
    "    \n",
    "    loss = history.history['loss']\n",
    "    val_loss = history.history['val_loss']\n",
    "    plt.plot(loss,\"-b\")\n",
    "    plt.plot(val_loss,\"-r\")\n",
    "    plt.title(\"loss trend\")\n",
    "    plt.xlabel(\"epoch\")\n",
    "    plt.ylabel(\"loss\")\n",
    "    plt.show()\n",
    "    \n",
    "    recall = history.history[\"recall\"]\n",
    "    val_recall = history.history[\"val_recall\"]\n",
    "    plt.plot(recall,\"-b\")\n",
    "    plt.plot(val_recall,\"-r\")\n",
    "    plt.title(\"recall trend\")\n",
    "    plt.xlabel(\"epoch\")\n",
    "    plt.ylabel(\"recall\")\n",
    "    plt.show()\n",
    "\n",
    "    \n",
    "    \n",
    "    y_pred = model.predict([test_custinfo,test_dp_5])\n",
    "    \n",
    "    return y_pred"
   ]
  },
  {
   "cell_type": "code",
   "execution_count": 9,
   "id": "5ad9a9b3",
   "metadata": {
    "scrolled": true
   },
   "outputs": [
    {
     "name": "stdout",
     "output_type": "stream",
     "text": [
      "WARNING:tensorflow:Layer lstm will not use cuDNN kernel since it doesn't meet the cuDNN kernel criteria. It will use generic GPU kernel as fallback when running on GPU\n",
      "Model: \"model\"\n",
      "__________________________________________________________________________________________________\n",
      "Layer (type)                    Output Shape         Param #     Connected to                     \n",
      "==================================================================================================\n",
      "input_2 (InputLayer)            [(None, 5, 89)]      0                                            \n",
      "__________________________________________________________________________________________________\n",
      "lstm (LSTM)                     (None, 89)           63724       input_2[0][0]                    \n",
      "__________________________________________________________________________________________________\n",
      "input_1 (InputLayer)            [(None, 42)]         0                                            \n",
      "__________________________________________________________________________________________________\n",
      "dropout (Dropout)               (None, 89)           0           lstm[0][0]                       \n",
      "__________________________________________________________________________________________________\n",
      "concatenate (Concatenate)       (None, 131)          0           input_1[0][0]                    \n",
      "                                                                 dropout[0][0]                    \n",
      "__________________________________________________________________________________________________\n",
      "dense (Dense)                   (None, 64)           8448        concatenate[0][0]                \n",
      "__________________________________________________________________________________________________\n",
      "dense_1 (Dense)                 (None, 2)            130         dense[0][0]                      \n",
      "==================================================================================================\n",
      "Total params: 72,302\n",
      "Trainable params: 72,302\n",
      "Non-trainable params: 0\n",
      "__________________________________________________________________________________________________\n",
      "None\n",
      "Epoch 1/2\n",
      "299/299 [==============================] - 8s 21ms/step - loss: 0.5838 - recall: 0.9373 - val_loss: 0.4719 - val_recall: 0.8660\n",
      "Epoch 2/2\n",
      "299/299 [==============================] - 7s 23ms/step - loss: 0.5310 - recall: 0.7674 - val_loss: 0.4220 - val_recall: 0.8250\n"
     ]
    },
    {
     "data": {
      "image/png": "[encoded data removed]",
      "text/plain": [
       "<Figure size 432x288 with 1 Axes>"
      ]
     },
     "metadata": {
      "needs_background": "light"
     },
     "output_type": "display_data"
    },
    {
     "data": {
      "image/png": "[encoded data removed]",
      "text/plain": [
       "<Figure size 432x288 with 1 Axes>"
      ]
     },
     "metadata": {
      "needs_background": "light"
     },
     "output_type": "display_data"
    }
   ],
   "source": [
    "pred = model_phase()"
   ]
  },
  {
   "cell_type": "code",
   "execution_count": 10,
   "id": "1c6cea40",
   "metadata": {
    "scrolled": true
   },
   "outputs": [
    {
     "name": "stdout",
     "output_type": "stream",
     "text": [
      "              precision    recall  f1-score   support\n",
      "\n",
      "           0       0.99      0.83      0.90      4731\n",
      "           1       0.03      0.41      0.05        51\n",
      "\n",
      "    accuracy                           0.82      4782\n",
      "   macro avg       0.51      0.62      0.48      4782\n",
      "weighted avg       0.98      0.82      0.89      4782\n",
      "\n",
      "4782\n",
      "predict index: [17, 21, 23, 32, 36, 57, 59, 60, 61, 72, 73, 75, 85, 90, 98, 109, 114, 120, 123, 125, 128, 160, 164, 173, 185, 192, 197, 211, 217, 219, 224, 231, 236, 237, 244, 247, 248, 250, 259, 277, 283, 285, 286, 293, 294, 295, 304, 307, 313, 329, 332, 339, 341, 344, 345, 347, 348, 354, 360, 362, 364, 366, 374, 375, 379, 382, 392, 398, 408, 425, 433, 434, 439, 445, 446, 448, 457, 470, 477, 482, 483, 492, 498, 503, 508, 514, 548, 559, 568, 569, 580, 584, 587, 591, 593, 597, 598, 601, 603, 605, 609, 612, 619, 626, 627, 630, 631, 638, 644, 650, 655, 657, 661, 663, 669, 680, 686, 690, 694, 695, 698, 699, 717, 718, 722, 723, 725, 735, 748, 753, 755, 756, 762, 769, 783, 786, 789, 791, 795, 796, 802, 812, 813, 817, 827, 835, 839, 847, 857, 871, 877, 882, 890, 891, 905, 906, 910, 919, 922, 924, 942, 947, 950, 962, 966, 967, 968, 974, 978, 994, 999, 1002, 1003, 1006, 1016, 1017, 1028, 1035, 1041, 1042, 1050, 1056, 1065, 1066, 1068, 1071, 1072, 1084, 1085, 1087, 1090, 1096, 1102, 1103, 1110, 1114, 1128, 1129, 1131, 1133, 1137, 1139, 1151, 1154, 1155, 1166, 1167, 1174, 1182, 1184, 1185, 1188, 1191, 1192, 1194, 1199, 1201, 1206, 1211, 1216, 1225, 1226, 1234, 1236, 1239, 1246, 1261, 1265, 1269, 1275, 1277, 1280, 1286, 1291, 1295, 1300, 1301, 1314, 1329, 1335, 1338, 1346, 1348, 1355, 1361, 1369, 1370, 1376, 1383, 1388, 1398, 1410, 1417, 1424, 1425, 1427, 1434, 1436, 1443, 1445, 1446, 1452, 1456, 1457, 1459, 1471, 1475, 1479, 1484, 1491, 1493, 1498, 1507, 1524, 1525, 1542, 1544, 1553, 1559, 1563, 1566, 1568, 1577, 1581, 1584, 1586, 1587, 1589, 1590, 1591, 1613, 1614, 1615, 1635, 1646, 1651, 1663, 1665, 1678, 1680, 1685, 1692, 1695, 1703, 1707, 1708, 1715, 1727, 1730, 1734, 1735, 1737, 1741, 1748, 1767, 1772, 1780, 1789, 1799, 1803, 1816, 1821, 1839, 1859, 1866, 1869, 1872, 1874, 1877, 1885, 1886, 1894, 1898, 1902, 1904, 1905, 1907, 1913, 1914, 1916, 1917, 1924, 1934, 1938, 1939, 1948, 1952, 1961, 1966, 1986, 1996, 1997, 2000, 2007, 2009, 2015, 2019, 2023, 2045, 2047, 2054, 2070, 2078, 2085, 2090, 2097, 2098, 2104, 2122, 2135, 2136, 2141, 2149, 2151, 2153, 2154, 2157, 2165, 2171, 2173, 2182, 2185, 2186, 2190, 2197, 2198, 2200, 2202, 2213, 2214, 2218, 2226, 2227, 2238, 2242, 2243, 2244, 2252, 2255, 2262, 2271, 2279, 2284, 2287, 2294, 2297, 2304, 2308, 2311, 2321, 2324, 2326, 2329, 2330, 2338, 2364, 2368, 2377, 2381, 2383, 2388, 2389, 2390, 2394, 2395, 2396, 2399, 2400, 2406, 2409, 2421, 2428, 2432, 2438, 2442, 2459, 2470, 2478, 2482, 2483, 2485, 2486, 2488, 2489, 2500, 2514, 2517, 2521, 2524, 2529, 2532, 2540, 2550, 2559, 2560, 2561, 2565, 2572, 2576, 2582, 2586, 2587, 2588, 2592, 2594, 2600, 2609, 2613, 2616, 2619, 2626, 2640, 2650, 2651, 2653, 2654, 2658, 2660, 2668, 2681, 2699, 2702, 2703, 2706, 2712, 2719, 2721, 2723, 2725, 2731, 2733, 2743, 2754, 2755, 2762, 2780, 2781, 2786, 2787, 2791, 2792, 2807, 2812, 2817, 2833, 2835, 2838, 2842, 2843, 2846, 2847, 2881, 2888, 2895, 2896, 2897, 2909, 2912, 2923, 2937, 2949, 2953, 2954, 2957, 2977, 2986, 2996, 2999, 3003, 3005, 3008, 3026, 3031, 3033, 3035, 3036, 3055, 3069, 3078, 3080, 3083, 3084, 3086, 3090, 3091, 3102, 3104, 3107, 3111, 3120, 3121, 3128, 3138, 3141, 3142, 3163, 3169, 3171, 3175, 3177, 3180, 3187, 3190, 3192, 3194, 3196, 3200, 3206, 3207, 3209, 3218, 3225, 3231, 3232, 3242, 3245, 3248, 3249, 3253, 3260, 3270, 3271, 3287, 3294, 3305, 3310, 3311, 3314, 3324, 3331, 3340, 3341, 3358, 3361, 3379, 3385, 3397, 3402, 3406, 3407, 3412, 3420, 3426, 3429, 3444, 3445, 3447, 3449, 3451, 3458, 3461, 3465, 3470, 3474, 3496, 3498, 3506, 3507, 3513, 3515, 3516, 3530, 3533, 3536, 3537, 3539, 3546, 3547, 3558, 3566, 3571, 3574, 3576, 3577, 3589, 3593, 3601, 3606, 3612, 3632, 3636, 3641, 3648, 3659, 3660, 3661, 3664, 3671, 3676, 3688, 3694, 3713, 3714, 3717, 3719, 3724, 3763, 3764, 3773, 3774, 3775, 3777, 3779, 3783, 3794, 3807, 3812, 3818, 3820, 3823, 3824, 3828, 3829, 3833, 3842, 3848, 3850, 3858, 3860, 3865, 3866, 3874, 3875, 3881, 3882, 3884, 3887, 3889, 3891, 3894, 3910, 3913, 3915, 3921, 3929, 3931, 3934, 3939, 3941, 3957, 3968, 3969, 3985, 3988, 4017, 4018, 4028, 4040, 4041, 4045, 4051, 4063, 4067, 4069, 4072, 4080, 4094, 4095, 4098, 4101, 4103, 4104, 4108, 4121, 4129, 4131, 4136, 4141, 4148, 4169, 4170, 4171, 4174, 4192, 4202, 4210, 4221, 4235, 4245, 4257, 4261, 4266, 4268, 4270, 4279, 4289, 4297, 4299, 4302, 4307, 4316, 4318, 4325, 4329, 4332, 4341, 4346, 4349, 4355, 4356, 4358, 4365, 4366, 4369, 4375, 4383, 4390, 4392, 4395, 4398, 4403, 4412, 4418, 4433, 4438, 4444, 4448, 4459, 4463, 4479, 4482, 4483, 4485, 4488, 4489, 4490, 4516, 4528, 4532, 4535, 4569, 4578, 4582, 4591, 4598, 4609, 4621, 4628, 4631, 4632, 4633, 4634, 4636, 4637, 4647, 4655, 4662, 4664, 4665, 4691, 4697, 4704, 4705, 4706, 4707, 4710, 4711, 4712, 4713, 4723, 4727, 4729, 4730, 4731, 4738, 4742, 4750, 4768]\n",
      "true index: [25, 39, 164, 184, 197, 236, 343, 424, 494, 624, 644, 759, 1042, 1151, 1154, 1236, 1398, 1498, 1522, 1574, 1743, 1748, 1793, 1889, 1934, 2141, 2372, 2499, 2529, 2557, 2558, 2597, 2874, 2914, 2934, 2996, 3003, 3245, 3264, 3479, 3496, 3558, 3644, 3767, 3931, 3943, 4187, 4231, 4451, 4541, 4665]\n"
     ]
    }
   ],
   "source": [
    "from sklearn.metrics import classification_report\n",
    "\n",
    "y_pred = [0 if label[0]> label[1] else 1 for label in pred]\n",
    "y_true = [0 if label[0]> label[1] else 1 for label in test_sarflag]\n",
    "\n",
    "print(classification_report(y_true,y_pred))\n",
    "print(len(pred))\n",
    "\n",
    "y_pred_index = [i for i in range(len(y_pred)) if y_pred[i]==1]\n",
    "y_true_index = [i for i in range(len(y_true)) if y_true[i]==1]\n",
    "print(\"predict index:\",y_pred_index)\n",
    "print(\"true index:\",y_true_index)"
   ]
  },
  {
   "cell_type": "code",
   "execution_count": 11,
   "id": "01ffd114",
   "metadata": {},
   "outputs": [
    {
     "name": "stdout",
     "output_type": "stream",
     "text": [
      "[3472, 4132]\n",
      "0.014400921658986175\n"
     ]
    }
   ],
   "source": [
    "def capture_sarflags_cost(real_laundry_key,y_pred,shuffle_alert_key):\n",
    "    \n",
    "    #concat alertkey with predicted probability\n",
    "    alert_key_with_prob = np.hstack((np.array(shuffle_alert_key).reshape(-1,1),\n",
    "                                     y_pred.reshape(-1,1)))\n",
    "    \n",
    "    #sorted by probability\n",
    "    alert_key_with_prob = np.array(sorted(alert_key_with_prob, key=lambda x: x[1],reverse=True))\n",
    "    #capture only index\n",
    "    sorted_alert_key = alert_key_with_prob[:,0].tolist()\n",
    "    \n",
    "    distance = [0,0]\n",
    "    for index in real_laundry_key:\n",
    "        if distance[1] < sorted_alert_key.index(index):\n",
    "            distance[0] = distance[1]\n",
    "            distance[1] = sorted_alert_key.index(index)\n",
    "        else:\n",
    "            distance[0] = max(distance[0],sorted_alert_key.index(index))\n",
    "    \n",
    "    print(distance)\n",
    "    precision = (len(real_laundry_key)-1)/distance[0]\n",
    "    print(precision)\n",
    "    \n",
    "capture_sarflags_cost(test_laundry_alertkey,pred[:,1],test_alert_key)"
   ]
  }
 ],
 "metadata": {
  "kernelspec": {
   "display_name": "Python 3",
   "language": "python",
   "name": "python3"
  },
  "language_info": {
   "codemirror_mode": {
    "name": "ipython",
    "version": 3
   },
   "file_extension": ".py",
   "mimetype": "text/x-python",
   "name": "python",
   "nbconvert_exporter": "python",
   "pygments_lexer": "ipython3",
   "version": "3.6.13"
  }
 },
 "nbformat": 4,
 "nbformat_minor": 5
}
