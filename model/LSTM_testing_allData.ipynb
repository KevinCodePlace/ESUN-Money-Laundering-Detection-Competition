{
 "cells": [
  {
   "cell_type": "code",
   "execution_count": 1,
   "id": "c3ceb67a",
   "metadata": {},
   "outputs": [],
   "source": [
    "import numpy as np\n",
    "import pandas as pd\n",
    "import random\n",
    "from sklearn.preprocessing import LabelEncoder"
   ]
  },
  {
   "cell_type": "code",
   "execution_count": 2,
   "id": "91afe99a",
   "metadata": {},
   "outputs": [
    {
     "name": "stdout",
     "output_type": "stream",
     "text": [
      "(23906, 7)\n"
     ]
    }
   ],
   "source": [
    "#loading train_data and divide them into different array: alertkey, custinfo, dp_5_arr\n",
    "train_data = np.load(\"train_set_5.npy\",allow_pickle = True)\n",
    "print(train_data.shape)\n",
    "alert_key_arr = train_data[:,0]\n",
    "\n",
    "custinfo_arr = train_data[:,1]\n",
    "custinfo_arr = np.array([np.array(i) for i in custinfo_arr]) #convert all into array\n",
    "\n",
    "dp_5_arr = train_data[:,2]\n",
    "dp_5_arr = np.array([np.array(i) for i in dp_5_arr]) #convert all into array\n",
    "\n",
    "ccba_5_arr = train_data[:,3]\n",
    "ccba_5_arr = np.array([np.array(i) for i in ccba_5_arr]) #convert all into array\n",
    "\n",
    "cdtx_5_arr = train_data[:,4]\n",
    "cdtx_5_arr = np.array([np.array(i) for i in cdtx_5_arr]) #convert all into array\n",
    "\n",
    "sarflag_arr = pd.read_csv(\"train_y_answer.csv\").values\n",
    "#capture the alertkey which is money laundry record\n",
    "sarflag1_alertkey = np.array([row[0] for row in sarflag_arr if row[1]==1])\n",
    "\n",
    "laundry_label = np.array([0,1])\n",
    "normal_label = np.array([1,0])\n",
    "\n",
    "sarflag_arr_double = np.array([laundry_label if row[1] == 1 else normal_label for row in sarflag_arr])\n"
   ]
  },
  {
   "cell_type": "code",
   "execution_count": 3,
   "id": "72b3b988",
   "metadata": {},
   "outputs": [],
   "source": [
    "#shuffle the data and do train test split\n",
    "\n",
    "#generate random_indexes(23906)\n",
    "random.seed(10)\n",
    "shuffle_index = [i for i in range(len(alert_key_arr))]\n",
    "random.shuffle(shuffle_index)\n",
    "\n",
    "#shuffle all the data\n",
    "shuffle_alert_key = alert_key_arr[shuffle_index]\n",
    "shuffle_custinfo = custinfo_arr[shuffle_index]\n",
    "shuffle_dp_5 = dp_5_arr[shuffle_index]\n",
    "shuffle_ccba_5 = ccba_5_arr[shuffle_index]\n",
    "shuffle_cdtx_5 = cdtx_5_arr[shuffle_index]\n",
    "shuffle_sarflag = sarflag_arr_double[shuffle_index]\n",
    "\n",
    "\n",
    "\n",
    "#train_test_split\n",
    "split_ratio = 0.8\n",
    "split_index = int(len(alert_key_arr) * split_ratio)\n",
    "\n",
    "train_alert_key = shuffle_alert_key[:split_index] #其實用不到\n",
    "test_alert_key = shuffle_alert_key[split_index:]\n",
    "\n",
    "train_custinfo = shuffle_custinfo[:split_index]\n",
    "test_custinfo = shuffle_custinfo[split_index:]\n",
    "\n",
    "train_dp_5 = shuffle_dp_5[:split_index,:]\n",
    "test_dp_5 = shuffle_dp_5[split_index:,:]\n",
    "\n",
    "train_ccba_5 = shuffle_ccba_5[:split_index,:]\n",
    "test_ccba_5 = shuffle_ccba_5[split_index:,:]\n",
    "\n",
    "train_cdtx_5 = shuffle_cdtx_5[:split_index,:]\n",
    "test_cdtx_5 = shuffle_cdtx_5[split_index:,:]\n",
    "\n",
    "train_sarflag = shuffle_sarflag[:split_index]\n",
    "test_sarflag = shuffle_sarflag[split_index:]"
   ]
  },
  {
   "cell_type": "code",
   "execution_count": 4,
   "id": "548d316f",
   "metadata": {},
   "outputs": [
    {
     "name": "stdout",
     "output_type": "stream",
     "text": [
      "test money laundry alert key: [257373, 238500, 194998, 347894, 196768, 193591, 242265, 222762, 217767, 208521, 228779, 216430, 192624, 210477, 194991, 302634, 198064, 184729, 199069, 200734, 215398, 306458, 313558, 275937, 185217, 256370, 216871, 194029, 198709, 218840, 279637, 257351, 283568, 204801, 224975, 274321, 214818, 195765, 202146, 220868, 187020, 178503, 298380, 204639, 305491, 190233, 269661, 189123, 316664, 216405, 246756]\n",
      "len of test laundry records: 51\n"
     ]
    }
   ],
   "source": [
    "#find test_alertkey which is money laundry record\n",
    "test_laundry_alertkey = [key for key in test_alert_key if key in sarflag1_alertkey]\n",
    "print(\"test money laundry alert key:\",test_laundry_alertkey)\n",
    "print(\"len of test laundry records:\",len(test_laundry_alertkey))"
   ]
  },
  {
   "cell_type": "code",
   "execution_count": 5,
   "id": "3a8e2585",
   "metadata": {},
   "outputs": [
    {
     "name": "stdout",
     "output_type": "stream",
     "text": [
      "{0: 0.5048307903489784, 1: 34.834244080145716}\n"
     ]
    }
   ],
   "source": [
    "#calculate class weight:\n",
    "neg = 0\n",
    "pos = 0\n",
    "total = len(train_sarflag)\n",
    "\n",
    "for label in train_sarflag:\n",
    "    if label[0] == 1:\n",
    "        neg += 1\n",
    "    else:\n",
    "        pos += 1\n",
    "\n",
    "weight_for_0 = (1 / neg) * (total / 2.0)\n",
    "weight_for_1 = (1 / pos) * (total / 2.0)/(3/2)\n",
    "\n",
    "class_weight = {0: weight_for_0, 1: weight_for_1}\n",
    "\n",
    "print(class_weight)"
   ]
  },
  {
   "cell_type": "code",
   "execution_count": 6,
   "id": "6517d71d",
   "metadata": {},
   "outputs": [],
   "source": [
    "import numpy as np\n",
    "import pandas as pd\n",
    "import matplotlib.pyplot as plt\n",
    "import pandas as pd\n",
    "import math\n",
    "import tensorflow as tf\n",
    "from tensorflow.keras.models import Sequential, Model\n",
    "from tensorflow.keras.layers import Dense\n",
    "from tensorflow.keras.layers import LSTM\n",
    "from tensorflow.keras.layers import Embedding\n",
    "from tensorflow.keras.layers import Dropout\n",
    "from tensorflow.keras import Input\n",
    "#https://keras.io/api/layers/core_layers/input/\n",
    "from tensorflow.keras.layers import concatenate"
   ]
  },
  {
   "cell_type": "code",
   "execution_count": 7,
   "id": "f0b97a18",
   "metadata": {},
   "outputs": [],
   "source": [
    "METRICS = [\n",
    "      tf.keras.metrics.Recall(name='recall'),\n",
    "]\n"
   ]
  },
  {
   "cell_type": "code",
   "execution_count": 8,
   "id": "9cb461a0",
   "metadata": {},
   "outputs": [],
   "source": [
    "def model_phase():\n",
    "    \n",
    "    #define input_shape\n",
    "    custinfo_input = Input(shape=(train_custinfo.shape[1]))\n",
    "    dp_input = Input(shape=train_dp_5.shape[1:])\n",
    "    ccba_input = Input(shape=train_ccba_5.shape[1:])\n",
    "    cdtx_input = Input(shape=train_cdtx_5.shape[1:])\n",
    "    \n",
    "    \n",
    "    \n",
    "    dp_embedding = LSTM(train_dp_5.shape[2],activation=\"relu\")(dp_input)\n",
    "    dp_embedding = Dropout(0.5)(dp_embedding)\n",
    "    \n",
    "    ccba_embedding = LSTM(train_ccba_5.shape[2],activation=\"relu\")(ccba_input)\n",
    "    ccba_embedding = Dropout(0.5)(ccba_embedding)\n",
    "    \n",
    "    cdtx_embedding = LSTM(train_cdtx_5.shape[2],activation=\"relu\")(cdtx_input)\n",
    "    cdtx_embedding = Dropout(0.5)(cdtx_embedding)\n",
    "    \n",
    "    \n",
    "    concat_embedding = concatenate([custinfo_input,dp_embedding,ccba_embedding,cdtx_embedding])\n",
    "    \n",
    "    out64 = Dense(64, activation=\"relu\")(concat_embedding)\n",
    "    \n",
    "    #out32 = Dense(32, activation=\"relu\")(out64)\n",
    "    \n",
    "    #out16 = Dense(16, activation=\"relu\")(out64)\n",
    "    \n",
    "    #out8 = Dense(8, activation=\"relu\")(out16)\n",
    "    \n",
    "    #out4 = Dense(4, activation=\"relu\")(out8)\n",
    "    \n",
    "    out2 = Dense(2, activation=\"softmax\")(out64)\n",
    "\n",
    "    model = Model(inputs=[custinfo_input, dp_input,ccba_input,cdtx_input], outputs=out2)\n",
    "    model.compile(loss=tf.keras.losses.BinaryCrossentropy(from_logits=True),\n",
    "            optimizer='adam',\n",
    "            metrics=METRICS)\n",
    "    print(model.summary())\n",
    "    #callback = tf.keras.callbacks.EarlyStopping(monitor='loss', patience=20)\n",
    "    # 進行訓練\n",
    "    history = model.fit([train_custinfo,train_dp_5,train_ccba_5,train_cdtx_5], \n",
    "                        train_sarflag, \n",
    "                        epochs = 10, \n",
    "                        batch_size = 64,\n",
    "                        class_weight=class_weight,\n",
    "                        #callbacks=[callback],\n",
    "                        validation_data=([test_custinfo,test_dp_5,test_ccba_5,test_cdtx_5]\n",
    "                                         ,test_sarflag))  \n",
    "    \n",
    "    loss = history.history['loss']\n",
    "    val_loss = history.history['val_loss']\n",
    "    plt.plot(loss,\"-b\")\n",
    "    plt.plot(val_loss,\"-r\")\n",
    "    plt.title(\"loss trend\")\n",
    "    plt.xlabel(\"epoch\")\n",
    "    plt.ylabel(\"loss\")\n",
    "    plt.show()\n",
    "    \n",
    "    recall = history.history[\"recall\"]\n",
    "    val_recall = history.history[\"val_recall\"]\n",
    "    plt.plot(recall,\"-b\")\n",
    "    plt.plot(val_recall,\"-r\")\n",
    "    plt.title(\"recall trend\")\n",
    "    plt.xlabel(\"epoch\")\n",
    "    plt.ylabel(\"recall\")\n",
    "    plt.show()\n",
    "\n",
    "    \n",
    "    \n",
    "    y_pred = model.predict([test_custinfo,test_dp_5,test_ccba_5,test_cdtx_5])\n",
    "    \n",
    "    return y_pred"
   ]
  },
  {
   "cell_type": "code",
   "execution_count": 9,
   "id": "5ad9a9b3",
   "metadata": {
    "scrolled": true
   },
   "outputs": [
    {
     "name": "stdout",
     "output_type": "stream",
     "text": [
      "WARNING:tensorflow:Layer lstm will not use cuDNN kernel since it doesn't meet the cuDNN kernel criteria. It will use generic GPU kernel as fallback when running on GPU\n",
      "WARNING:tensorflow:Layer lstm_1 will not use cuDNN kernel since it doesn't meet the cuDNN kernel criteria. It will use generic GPU kernel as fallback when running on GPU\n",
      "WARNING:tensorflow:Layer lstm_2 will not use cuDNN kernel since it doesn't meet the cuDNN kernel criteria. It will use generic GPU kernel as fallback when running on GPU\n",
      "Model: \"model\"\n",
      "__________________________________________________________________________________________________\n",
      "Layer (type)                    Output Shape         Param #     Connected to                     \n",
      "==================================================================================================\n",
      "input_2 (InputLayer)            [(None, 5, 89)]      0                                            \n",
      "__________________________________________________________________________________________________\n",
      "input_3 (InputLayer)            [(None, 5, 7)]       0                                            \n",
      "__________________________________________________________________________________________________\n",
      "input_4 (InputLayer)            [(None, 5, 184)]     0                                            \n",
      "__________________________________________________________________________________________________\n",
      "lstm (LSTM)                     (None, 89)           63724       input_2[0][0]                    \n",
      "__________________________________________________________________________________________________\n",
      "lstm_1 (LSTM)                   (None, 7)            420         input_3[0][0]                    \n",
      "__________________________________________________________________________________________________\n",
      "lstm_2 (LSTM)                   (None, 184)          271584      input_4[0][0]                    \n",
      "__________________________________________________________________________________________________\n",
      "input_1 (InputLayer)            [(None, 42)]         0                                            \n",
      "__________________________________________________________________________________________________\n",
      "dropout (Dropout)               (None, 89)           0           lstm[0][0]                       \n",
      "__________________________________________________________________________________________________\n",
      "dropout_1 (Dropout)             (None, 7)            0           lstm_1[0][0]                     \n",
      "__________________________________________________________________________________________________\n",
      "dropout_2 (Dropout)             (None, 184)          0           lstm_2[0][0]                     \n",
      "__________________________________________________________________________________________________\n",
      "concatenate (Concatenate)       (None, 322)          0           input_1[0][0]                    \n",
      "                                                                 dropout[0][0]                    \n",
      "                                                                 dropout_1[0][0]                  \n",
      "                                                                 dropout_2[0][0]                  \n",
      "__________________________________________________________________________________________________\n",
      "dense (Dense)                   (None, 64)           20672       concatenate[0][0]                \n",
      "__________________________________________________________________________________________________\n",
      "dense_1 (Dense)                 (None, 2)            130         dense[0][0]                      \n",
      "==================================================================================================\n",
      "Total params: 356,530\n",
      "Trainable params: 356,530\n",
      "Non-trainable params: 0\n",
      "__________________________________________________________________________________________________\n",
      "None\n",
      "Epoch 1/10\n",
      "299/299 [==============================] - 19s 57ms/step - loss: 0.5798 - recall: 0.8662 - val_loss: 0.5003 - val_recall: 0.7597\n",
      "Epoch 2/10\n",
      "299/299 [==============================] - 16s 54ms/step - loss: 0.4463 - recall: 0.7921 - val_loss: 0.4778 - val_recall: 0.7438\n",
      "Epoch 3/10\n",
      "299/299 [==============================] - 16s 54ms/step - loss: 0.4784 - recall: 0.7520 - val_loss: 0.4315 - val_recall: 0.7827\n",
      "Epoch 4/10\n",
      "299/299 [==============================] - 16s 54ms/step - loss: 0.4547 - recall: 0.7794 - val_loss: 0.4883 - val_recall: 0.6805\n",
      "Epoch 5/10\n",
      "299/299 [==============================] - 16s 54ms/step - loss: 0.4052 - recall: 0.7428 - val_loss: 0.4848 - val_recall: 0.7836\n",
      "Epoch 6/10\n",
      "299/299 [==============================] - 16s 54ms/step - loss: 0.4234 - recall: 0.7978 - val_loss: 0.5058 - val_recall: 0.7118\n",
      "Epoch 7/10\n",
      "299/299 [==============================] - 16s 54ms/step - loss: 0.4234 - recall: 0.7666 - val_loss: 0.4896 - val_recall: 0.7442\n",
      "Epoch 8/10\n",
      "299/299 [==============================] - 16s 54ms/step - loss: 0.3924 - recall: 0.7964 - val_loss: 0.4598 - val_recall: 0.7775\n",
      "Epoch 9/10\n",
      "299/299 [==============================] - 16s 54ms/step - loss: 0.3516 - recall: 0.7962 - val_loss: 0.5344 - val_recall: 0.7836\n",
      "Epoch 10/10\n",
      "299/299 [==============================] - 16s 54ms/step - loss: 0.3703 - recall: 0.7842 - val_loss: 0.5113 - val_recall: 0.8187\n"
     ]
    },
    {
     "data": {
      "image/png": "[encoded data removed]",
      "text/plain": [
       "<Figure size 432x288 with 1 Axes>"
      ]
     },
     "metadata": {
      "needs_background": "light"
     },
     "output_type": "display_data"
    },
    {
     "data": {
      "image/png": "[encoded data removed]",
      "text/plain": [
       "<Figure size 432x288 with 1 Axes>"
      ]
     },
     "metadata": {
      "needs_background": "light"
     },
     "output_type": "display_data"
    }
   ],
   "source": [
    "pred = model_phase()"
   ]
  },
  {
   "cell_type": "code",
   "execution_count": 10,
   "id": "1c6cea40",
   "metadata": {
    "scrolled": true
   },
   "outputs": [
    {
     "name": "stdout",
     "output_type": "stream",
     "text": [
      "              precision    recall  f1-score   support\n",
      "\n",
      "           0       0.99      0.82      0.90      4731\n",
      "           1       0.03      0.59      0.06        51\n",
      "\n",
      "    accuracy                           0.82      4782\n",
      "   macro avg       0.51      0.70      0.48      4782\n",
      "weighted avg       0.98      0.82      0.89      4782\n",
      "\n",
      "4782\n",
      "predict index: [10, 11, 13, 17, 36, 37, 44, 57, 59, 60, 61, 63, 71, 73, 74, 75, 85, 90, 98, 109, 112, 120, 123, 125, 128, 148, 155, 160, 164, 173, 174, 176, 184, 192, 203, 217, 219, 224, 236, 244, 247, 248, 259, 264, 279, 285, 286, 293, 297, 304, 307, 310, 327, 328, 329, 335, 337, 338, 339, 341, 342, 343, 345, 347, 348, 349, 360, 362, 374, 375, 382, 385, 391, 392, 399, 404, 423, 425, 433, 434, 439, 446, 448, 450, 457, 461, 472, 483, 488, 498, 500, 503, 505, 508, 510, 513, 514, 521, 524, 542, 547, 548, 556, 557, 559, 566, 580, 587, 596, 597, 598, 603, 605, 609, 619, 631, 644, 645, 655, 661, 663, 669, 672, 685, 686, 717, 719, 722, 734, 735, 736, 739, 741, 747, 748, 756, 757, 758, 781, 783, 785, 786, 789, 796, 812, 813, 827, 858, 873, 880, 882, 890, 891, 893, 906, 910, 913, 920, 924, 939, 947, 950, 952, 954, 955, 961, 962, 966, 967, 968, 975, 979, 982, 994, 1000, 1008, 1010, 1015, 1018, 1034, 1035, 1041, 1042, 1048, 1050, 1057, 1058, 1066, 1068, 1069, 1071, 1072, 1075, 1083, 1087, 1090, 1096, 1102, 1103, 1111, 1131, 1151, 1154, 1171, 1190, 1191, 1194, 1198, 1199, 1204, 1206, 1211, 1216, 1230, 1235, 1237, 1244, 1246, 1254, 1256, 1261, 1265, 1268, 1269, 1270, 1273, 1275, 1277, 1280, 1282, 1286, 1287, 1295, 1301, 1317, 1324, 1330, 1337, 1340, 1348, 1361, 1366, 1369, 1370, 1383, 1391, 1396, 1398, 1409, 1410, 1414, 1416, 1418, 1422, 1424, 1445, 1446, 1448, 1452, 1453, 1456, 1457, 1458, 1459, 1462, 1482, 1483, 1493, 1498, 1526, 1527, 1530, 1567, 1568, 1574, 1575, 1577, 1582, 1584, 1590, 1591, 1612, 1615, 1616, 1622, 1629, 1635, 1638, 1640, 1646, 1651, 1656, 1676, 1681, 1684, 1697, 1699, 1704, 1707, 1712, 1714, 1725, 1726, 1729, 1741, 1748, 1765, 1772, 1789, 1796, 1799, 1803, 1806, 1848, 1851, 1853, 1854, 1859, 1865, 1866, 1872, 1881, 1882, 1885, 1886, 1898, 1902, 1904, 1905, 1916, 1917, 1928, 1934, 1937, 1939, 1940, 1942, 1946, 1952, 1956, 1965, 1966, 1975, 1978, 1979, 2000, 2036, 2038, 2039, 2046, 2051, 2054, 2071, 2075, 2078, 2089, 2093, 2097, 2098, 2104, 2107, 2111, 2121, 2122, 2123, 2127, 2128, 2133, 2135, 2136, 2141, 2145, 2149, 2150, 2155, 2160, 2166, 2167, 2171, 2173, 2179, 2185, 2190, 2198, 2207, 2213, 2214, 2215, 2216, 2227, 2228, 2238, 2243, 2251, 2252, 2255, 2261, 2262, 2270, 2271, 2273, 2279, 2292, 2293, 2303, 2304, 2310, 2311, 2321, 2324, 2326, 2327, 2329, 2330, 2338, 2349, 2357, 2360, 2368, 2369, 2372, 2381, 2389, 2394, 2395, 2396, 2399, 2400, 2406, 2409, 2412, 2413, 2419, 2421, 2426, 2431, 2434, 2437, 2442, 2461, 2470, 2471, 2478, 2481, 2482, 2486, 2499, 2500, 2513, 2517, 2521, 2522, 2524, 2527, 2529, 2541, 2548, 2550, 2557, 2558, 2559, 2561, 2565, 2572, 2573, 2576, 2578, 2581, 2582, 2586, 2587, 2588, 2592, 2594, 2597, 2600, 2606, 2609, 2614, 2616, 2619, 2626, 2627, 2640, 2650, 2653, 2660, 2665, 2668, 2681, 2683, 2684, 2689, 2693, 2696, 2702, 2705, 2716, 2717, 2719, 2733, 2742, 2750, 2755, 2757, 2766, 2768, 2772, 2778, 2782, 2792, 2793, 2800, 2807, 2808, 2812, 2826, 2830, 2833, 2842, 2848, 2867, 2868, 2880, 2881, 2890, 2895, 2896, 2897, 2909, 2912, 2914, 2921, 2932, 2949, 2950, 2953, 2954, 2959, 2965, 2996, 2998, 3001, 3003, 3008, 3018, 3020, 3021, 3022, 3031, 3033, 3036, 3046, 3055, 3057, 3069, 3080, 3083, 3084, 3085, 3086, 3090, 3096, 3102, 3104, 3107, 3115, 3120, 3121, 3128, 3129, 3138, 3141, 3142, 3144, 3148, 3151, 3163, 3172, 3173, 3180, 3192, 3196, 3207, 3209, 3218, 3221, 3225, 3229, 3241, 3242, 3249, 3251, 3253, 3256, 3264, 3269, 3271, 3284, 3285, 3287, 3291, 3310, 3312, 3331, 3335, 3341, 3349, 3352, 3361, 3362, 3367, 3369, 3372, 3376, 3377, 3378, 3379, 3385, 3397, 3402, 3420, 3429, 3433, 3440, 3444, 3445, 3449, 3457, 3458, 3470, 3474, 3479, 3491, 3493, 3498, 3502, 3504, 3507, 3513, 3515, 3518, 3530, 3533, 3536, 3537, 3539, 3546, 3558, 3566, 3571, 3574, 3577, 3590, 3592, 3600, 3601, 3602, 3606, 3611, 3612, 3621, 3634, 3636, 3643, 3644, 3648, 3654, 3659, 3660, 3661, 3662, 3663, 3664, 3669, 3676, 3688, 3713, 3719, 3720, 3724, 3732, 3733, 3746, 3748, 3760, 3763, 3764, 3777, 3792, 3794, 3800, 3808, 3810, 3812, 3820, 3823, 3825, 3828, 3842, 3847, 3848, 3850, 3858, 3859, 3869, 3879, 3881, 3891, 3900, 3905, 3913, 3921, 3929, 3930, 3933, 3936, 3939, 3941, 3942, 3943, 3957, 3964, 3968, 3980, 3985, 4003, 4007, 4015, 4018, 4028, 4040, 4049, 4057, 4061, 4067, 4070, 4072, 4074, 4075, 4081, 4084, 4088, 4089, 4090, 4094, 4112, 4118, 4129, 4131, 4136, 4143, 4148, 4157, 4158, 4170, 4171, 4174, 4178, 4179, 4187, 4189, 4190, 4192, 4193, 4202, 4210, 4221, 4222, 4229, 4231, 4235, 4237, 4240, 4245, 4257, 4258, 4259, 4261, 4266, 4269, 4270, 4273, 4277, 4278, 4279, 4303, 4307, 4316, 4318, 4325, 4330, 4332, 4333, 4346, 4355, 4356, 4358, 4365, 4367, 4369, 4390, 4393, 4397, 4398, 4402, 4403, 4409, 4430, 4443, 4444, 4458, 4459, 4462, 4463, 4474, 4479, 4485, 4487, 4488, 4490, 4492, 4493, 4505, 4509, 4510, 4532, 4548, 4558, 4578, 4579, 4582, 4591, 4595, 4600, 4605, 4608, 4613, 4620, 4621, 4628, 4632, 4633, 4634, 4637, 4638, 4639, 4647, 4664, 4672, 4681, 4688, 4691, 4697, 4704, 4705, 4707, 4709, 4710, 4711, 4713, 4722, 4723, 4728, 4729, 4730, 4738, 4744, 4748, 4753, 4757, 4765, 4770, 4774, 4776, 4779]\n",
      "true index: [25, 39, 164, 184, 197, 236, 343, 424, 494, 624, 644, 759, 1042, 1151, 1154, 1236, 1398, 1498, 1522, 1574, 1743, 1748, 1793, 1889, 1934, 2141, 2372, 2499, 2529, 2557, 2558, 2597, 2874, 2914, 2934, 2996, 3003, 3245, 3264, 3479, 3496, 3558, 3644, 3767, 3931, 3943, 4187, 4231, 4451, 4541, 4665]\n"
     ]
    }
   ],
   "source": [
    "from sklearn.metrics import classification_report\n",
    "\n",
    "y_pred = [0 if label[0]> label[1] else 1 for label in pred]\n",
    "y_true = [0 if label[0]> label[1] else 1 for label in test_sarflag]\n",
    "\n",
    "print(classification_report(y_true,y_pred))\n",
    "print(len(pred))\n",
    "\n",
    "y_pred_index = [i for i in range(len(y_pred)) if y_pred[i]==1]\n",
    "y_true_index = [i for i in range(len(y_true)) if y_true[i]==1]\n",
    "print(\"predict index:\",y_pred_index)\n",
    "print(\"true index:\",y_true_index)"
   ]
  },
  {
   "cell_type": "code",
   "execution_count": 11,
   "id": "96b36dbe",
   "metadata": {},
   "outputs": [
    {
     "name": "stdout",
     "output_type": "stream",
     "text": [
      "[4597, 4670]\n",
      "0.010876658690450293\n"
     ]
    }
   ],
   "source": [
    "def capture_sarflags_cost(real_laundry_key,y_pred,shuffle_alert_key):\n",
    "    \n",
    "    #concat alertkey with predicted probability\n",
    "    alert_key_with_prob = np.hstack((np.array(shuffle_alert_key).reshape(-1,1),\n",
    "                                     y_pred.reshape(-1,1)))\n",
    "    \n",
    "    #sorted by probability\n",
    "    alert_key_with_prob = np.array(sorted(alert_key_with_prob, key=lambda x: x[1],reverse=True))\n",
    "    #capture only index\n",
    "    sorted_alert_key = alert_key_with_prob[:,0].tolist()\n",
    "    \n",
    "    distance = [0,0]\n",
    "    for index in real_laundry_key:\n",
    "        if distance[1] < sorted_alert_key.index(index):\n",
    "            distance[0] = distance[1]\n",
    "            distance[1] = sorted_alert_key.index(index)\n",
    "        else:\n",
    "            distance[0] = max(distance[0],sorted_alert_key.index(index))\n",
    "    \n",
    "    print(distance)\n",
    "    precision = (len(real_laundry_key)-1)/distance[0]\n",
    "    print(precision)\n",
    "    \n",
    "capture_sarflags_cost(test_laundry_alertkey,pred[:,1],test_alert_key)"
   ]
  }
 ],
 "metadata": {
  "kernelspec": {
   "display_name": "Python 3",
   "language": "python",
   "name": "python3"
  },
  "language_info": {
   "codemirror_mode": {
    "name": "ipython",
    "version": 3
   },
   "file_extension": ".py",
   "mimetype": "text/x-python",
   "name": "python",
   "nbconvert_exporter": "python",
   "pygments_lexer": "ipython3",
   "version": "3.6.13"
  }
 },
 "nbformat": 4,
 "nbformat_minor": 5
}
